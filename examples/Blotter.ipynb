{
 "cells": [
  {
   "cell_type": "code",
   "execution_count": 1,
   "metadata": {},
   "outputs": [
    {
     "data": {
      "text/html": [
       "<pre style=\"white-space:pre;overflow-x:auto;line-height:normal;font-family:Menlo,'DejaVu Sans Mono',consolas,'Courier New',monospace\"><span style=\"font-weight: bold\">(</span>c<span style=\"font-weight: bold\">)</span> <span style=\"color: #008000; text-decoration-color: #008000; font-weight: bold\">2017</span>, AppliedAlpha Infrastructure for Quantitative Research and Analysis, ver. master: \n",
       "<span style=\"color: #008000; text-decoration-color: #008000; font-weight: bold\">0.1536</span>\n",
       "</pre>\n"
      ],
      "text/plain": [
       "\u001b[1m(\u001b[0mc\u001b[1m)\u001b[0m \u001b[1;5;32m2017\u001b[0m, AppliedAlpha Infrastructure for Quantitative Research and Analysis, ver. master: \n",
       "\u001b[1;5;32m0.1536\u001b[0m\n"
      ]
     },
     "metadata": {},
     "output_type": "display_data"
    }
   ],
   "source": [
    "import ira\n",
    "import inspect\n",
    "from typing import Union, List\n",
    "from datetime import timedelta\n",
    "import requests\n",
    "\n",
    "%alphalab dark\n",
    "import alpha.utils.plot_helpers"
   ]
  },
  {
   "cell_type": "code",
   "execution_count": 2,
   "metadata": {},
   "outputs": [],
   "source": [
    "ohlc = pd.read_csv('../tests/data/EURUSD.csv', parse_dates=True, index_col='time')\n",
    "ohlc1 = pd.read_csv('../tests/data/RM1.csv', parse_dates=True, index_col='time')"
   ]
  },
  {
   "cell_type": "code",
   "execution_count": null,
   "metadata": {},
   "outputs": [],
   "source": [
    "LookingGlass(ohlc).look().hover(n=5)"
   ]
  },
  {
   "cell_type": "code",
   "execution_count": null,
   "metadata": {},
   "outputs": [],
   "source": [
    "LookingGlass(ohlc1).look().hover()"
   ]
  },
  {
   "cell_type": "markdown",
   "metadata": {},
   "source": [
    "<pre>\n",
    "2020-08-17 05:58:00     EURUSD      1000    1.185980          0.0                                  Test long order\n",
    "2020-08-17 05:58:00     EURUSD      -500    1.186230          0.0      part_take long at 1.18623 by LIMIT -> [500]\n",
    "2020-08-17 06:03:00     EURUSD      -500    1.186480          0.0  take long at 1.1864799999999998 by LIMIT -> [0]\n",
    "2020-08-17 07:32:00     EURUSD     -1000    1.184655          0.0                                 Test short order\n",
    "2020-08-17 10:28:00     EURUSD      1000    1.185655          0.0                           stop short at 1.185655\n",
    "</pre>"
   ]
  },
  {
   "cell_type": "code",
   "execution_count": null,
   "metadata": {},
   "outputs": [],
   "source": []
  }
 ],
 "metadata": {
  "kernelspec": {
   "display_name": "Python 3 (ipykernel)",
   "language": "python",
   "name": "python3"
  },
  "language_info": {
   "codemirror_mode": {
    "name": "ipython",
    "version": 3
   },
   "file_extension": ".py",
   "mimetype": "text/x-python",
   "name": "python",
   "nbconvert_exporter": "python",
   "pygments_lexer": "ipython3",
   "version": "3.9.7"
  }
 },
 "nbformat": 4,
 "nbformat_minor": 4
}
